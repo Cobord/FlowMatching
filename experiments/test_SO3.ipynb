{
 "cells": [
  {
   "cell_type": "code",
   "execution_count": null,
   "metadata": {},
   "outputs": [],
   "source": [
    "import torch\n",
    "import numpy as np\n",
    "from lieflow.groups import SO3\n",
    "import matplotlib.pyplot as plt\n",
    "from scipy.stats import special_ortho_group\n",
    "from matplotlib.animation import FFMpegWriter\n",
    "from mpl_toolkits.mplot3d import Axes3D\n",
    "# %matplotlib widget"
   ]
  },
  {
   "cell_type": "code",
   "execution_count": null,
   "metadata": {},
   "outputs": [],
   "source": [
    "so3 = SO3()"
   ]
  },
  {
   "cell_type": "code",
   "execution_count": null,
   "metadata": {},
   "outputs": [],
   "source": [
    "R = torch.Tensor(special_ortho_group.rvs(3, size=1))\n",
    "R, so3.log(R), (R - so3.exp(so3.log(R))).abs().max()"
   ]
  },
  {
   "cell_type": "code",
   "execution_count": null,
   "metadata": {},
   "outputs": [],
   "source": [
    "R = torch.Tensor(special_ortho_group.rvs(3, size=50))\n",
    "R = torch.Tensor(R)\n",
    "(R - so3.exp(so3.log(R))).abs().max()"
   ]
  },
  {
   "cell_type": "code",
   "execution_count": null,
   "metadata": {},
   "outputs": [],
   "source": [
    "R_0 = torch.eye(3)\n",
    "R_1 = torch.Tensor(special_ortho_group.rvs(3, size=1))\n",
    "A = so3.log(so3.L_inv(R_0, R_1))\n",
    "ts = torch.linspace(0., 1., 100)\n",
    "R_t = so3.L(R_0, so3.exp(ts[..., None, None] * A))"
   ]
  },
  {
   "cell_type": "code",
   "execution_count": null,
   "metadata": {},
   "outputs": [],
   "source": [
    "skip = 10\n",
    "fig = plt.figure(figsize=(10, 10))\n",
    "ax = fig.add_subplot(111, projection=\"3d\")\n",
    "ax.quiver(ts[::skip], 0., 0., R_t[::skip, 0, 0], R_t[::skip, 1, 0], R_t[::skip, 2, 0], length=0.1, color=\"red\")\n",
    "ax.quiver(ts[::skip], 0., 0., R_t[::skip, 0, 1], R_t[::skip, 1, 1], R_t[::skip, 2, 1], length=0.1, color=\"green\")\n",
    "ax.quiver(ts[::skip], 0., 0., R_t[::skip, 0, 2], R_t[::skip, 1, 2], R_t[::skip, 2, 2], length=0.1, color=\"blue\")\n",
    "ax.quiver(ts[-1], 0., 0., R_t[-1, 0, 0], R_t[-1, 1, 0], R_t[-1, 2, 0], length=0.1, color=\"red\")\n",
    "ax.quiver(ts[-1], 0., 0., R_t[-1, 0, 1], R_t[-1, 1, 1], R_t[-1, 2, 1], length=0.1, color=\"green\")\n",
    "ax.quiver(ts[-1], 0., 0., R_t[-1, 0, 2], R_t[-1, 1, 2], R_t[-1, 2, 2], length=0.1, color=\"blue\")\n",
    "ax.set_xlim(0, 1)\n",
    "ax.set_xlabel(\"x = t\")\n",
    "ax.set_ylim(-0.1, 0.1)\n",
    "ax.set_yticks([])\n",
    "ax.set_zlim(-0.1, 0.1)\n",
    "ax.set_zticks([])\n",
    "ax.set_aspect(\"equal\");"
   ]
  },
  {
   "cell_type": "code",
   "execution_count": null,
   "metadata": {},
   "outputs": [],
   "source": [
    "q_0 = torch.Tensor(((1., 0., 0.), (0., 0., 1.))).T\n",
    "q_t = R_t @ q_0\n",
    "q_1 = R_1 @ q_0"
   ]
  },
  {
   "cell_type": "code",
   "execution_count": null,
   "metadata": {},
   "outputs": [],
   "source": [
    "theta = np.linspace(0, np.pi, 50)\n",
    "phi = np.linspace(0, 2 * np.pi, 100)\n",
    "theta, phi = np.meshgrid(theta, phi)\n",
    "\n",
    "x = np.sin(theta) * np.cos(phi)\n",
    "y = np.sin(theta) * np.sin(phi)\n",
    "z = np.cos(theta)\n",
    "r = 1.01\n",
    "\n",
    "fig = plt.figure(figsize=(8, 8))\n",
    "ax = fig.add_subplot(111, projection='3d')\n",
    "ax.view_init(elev=15, azim=15)\n",
    "ax.plot_surface(x, y, z, color='cyan', alpha=0.25, edgecolor=None)\n",
    "ax.plot(r*q_t[:, 0, 0], r*q_t[:, 1, 0], r*q_t[:, 2, 0])\n",
    "ax.quiver(\n",
    "    r*q_t[10:-2:10, 0, 0], r*q_t[10:-2:10, 1, 0], r*q_t[10:-2:10, 2, 0],\n",
    "    q_t[10:-2:10, 0, 1], q_t[10:-2:10, 1, 1], q_t[10:-2:10, 2, 1],\n",
    "    length=0.25\n",
    ")\n",
    "ax.quiver(\n",
    "    r*q_0[0, 0], r*q_0[1, 0], r*q_0[2, 0],\n",
    "    q_0[0, 1], q_0[1, 1], q_0[2, 1],\n",
    "    length=0.25, color=\"blue\"\n",
    ")\n",
    "ax.quiver(\n",
    "    r*q_1[0, 0], r*q_1[1, 0], r*q_1[2, 0],\n",
    "    q_1[0, 1], q_1[1, 1], q_1[2, 1],\n",
    "    length=0.25, color=\"green\"\n",
    ")\n",
    "\n",
    "ax.set_xlim([-1, 1])\n",
    "ax.set_xticks([])\n",
    "ax.set_ylim([-1, 1])\n",
    "ax.set_yticks([])\n",
    "ax.set_zlim([-1, 1])\n",
    "ax.set_zticks([])\n",
    "ax.set_aspect(\"equal\");\n"
   ]
  },
  {
   "cell_type": "code",
   "execution_count": null,
   "metadata": {},
   "outputs": [],
   "source": [
    "metadata = {'title': 'Exponential Curve Interpolation SO(3)', 'artist': 'Matplotlib'}\n",
    "writer = FFMpegWriter(fps=2, metadata=metadata)\n",
    "\n",
    "R_0 = torch.eye(3)\n",
    "fig = plt.figure(figsize=(5, 5))\n",
    "ax = fig.add_subplot(111, projection=\"3d\")\n",
    "with writer.saving(fig, \"output/exponential_curves_SO3.mp4\", dpi=150):\n",
    "    for frame in range(50):\n",
    "        R_1 = torch.Tensor(special_ortho_group.rvs(3, size=1))\n",
    "\n",
    "        A = so3.log(so3.L_inv(R_0, R_1))\n",
    "\n",
    "        ts = torch.linspace(0., 1., 10)\n",
    "        R_t = so3.L(R_0, so3.exp(ts[..., None, None] * A))\n",
    "        \n",
    "        ax.clear()\n",
    "        ax.quiver(ts, 0., 0., R_t[:, 0, 0], R_t[:, 1, 0], R_t[:, 2, 0], length=0.1, color=\"red\")\n",
    "        ax.quiver(ts, 0., 0., R_t[:, 0, 1], R_t[:, 1, 1], R_t[:, 2, 1], length=0.1, color=\"green\")\n",
    "        ax.quiver(ts, 0., 0., R_t[:, 0, 2], R_t[:, 1, 2], R_t[:, 2, 2], length=0.1, color=\"blue\")\n",
    "        ax.set_xlim(0, 1)\n",
    "        ax.set_xlabel(\"t\")\n",
    "        ax.set_ylim(-0.1, 0.1)\n",
    "        ax.set_yticks([])\n",
    "        ax.set_zlim(-0.1, 0.1)\n",
    "        ax.set_zticks([])\n",
    "        ax.set_aspect(\"equal\")\n",
    "        writer.grab_frame()"
   ]
  },
  {
   "cell_type": "code",
   "execution_count": null,
   "metadata": {},
   "outputs": [],
   "source": [
    "metadata = {'title': 'Exponential Curve Interpolation W_2', 'artist': 'Matplotlib'}\n",
    "writer = FFMpegWriter(fps=2, metadata=metadata)\n",
    "\n",
    "R_0 = torch.eye(3)\n",
    "q_0 = torch.Tensor(((1., 0., 0.), (0., 0., 1.))).T\n",
    "fig = plt.figure(figsize=(8, 8))\n",
    "ax = fig.add_subplot(111, projection='3d')\n",
    "ax.view_init(elev=15, azim=15)\n",
    "ax.plot_surface(x, y, z, color='cyan', alpha=0.25, edgecolor=None)\n",
    "ax.quiver(r*q_0[0, 0], r*q_0[1, 0], r*q_0[2, 0], q_0[0, 1], q_0[1, 1], q_0[2, 1], length=0.25, color=\"blue\")\n",
    "quiver_inter = ax.quiver([], [], [], [], [], [])\n",
    "quiver_end = ax.quiver([], [], [], [], [], [], color=\"green\")\n",
    "plot, = ax.plot([], [], [])\n",
    "\n",
    "ax.set_xlim([-1, 1])\n",
    "ax.set_xticks([])\n",
    "ax.set_ylim([-1, 1])\n",
    "ax.set_yticks([])\n",
    "ax.set_zlim([-1, 1])\n",
    "ax.set_zticks([])\n",
    "ax.set_aspect(\"equal\")\n",
    "with writer.saving(fig, \"output/exponential_curves_W2.mp4\", dpi=150):\n",
    "    for frame in range(50):\n",
    "        R_1 = torch.Tensor(special_ortho_group.rvs(3, size=1))\n",
    "\n",
    "        A = so3.log(so3.L_inv(R_0, R_1))\n",
    "\n",
    "        ts = torch.linspace(0., 1., 100)\n",
    "        R_t = so3.L(R_0, so3.exp(ts[..., None, None] * A))\n",
    "        q_t = R_t @ q_0\n",
    "        q_1 = R_1 @ q_0\n",
    "        \n",
    "        plot.remove()\n",
    "        quiver_inter.remove()\n",
    "        quiver_end.remove()\n",
    "\n",
    "        plot, = ax.plot(r*q_t[:, 0, 0], r*q_t[:, 1, 0], r*q_t[:, 2, 0])\n",
    "        quiver_inter = ax.quiver(\n",
    "            r*q_t[10:-2:10, 0, 0], r*q_t[10:-2:10, 1, 0], r*q_t[10:-2:10, 2, 0],\n",
    "            q_t[10:-2:10, 0, 1], q_t[10:-2:10, 1, 1], q_t[10:-2:10, 2, 1],\n",
    "            length=0.25\n",
    "        )\n",
    "        quiver_end = ax.quiver(\n",
    "            r*q_1[0, 0], r*q_1[1, 0], r*q_1[2, 0],\n",
    "            q_1[0, 1], q_1[1, 1], q_1[2, 1],\n",
    "            length=0.25, color=\"green\"\n",
    "        )\n",
    "        writer.grab_frame()"
   ]
  },
  {
   "cell_type": "code",
   "execution_count": null,
   "metadata": {},
   "outputs": [],
   "source": []
  }
 ],
 "metadata": {
  "kernelspec": {
   "display_name": "flow-matching",
   "language": "python",
   "name": "python3"
  },
  "language_info": {
   "codemirror_mode": {
    "name": "ipython",
    "version": 3
   },
   "file_extension": ".py",
   "mimetype": "text/x-python",
   "name": "python",
   "nbconvert_exporter": "python",
   "pygments_lexer": "ipython3",
   "version": "3.12.9"
  }
 },
 "nbformat": 4,
 "nbformat_minor": 2
}
