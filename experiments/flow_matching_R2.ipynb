{
 "cells": [
  {
   "cell_type": "code",
   "execution_count": null,
   "metadata": {},
   "outputs": [],
   "source": [
    "import torch\n",
    "import torch.nn as nn\n",
    "import numpy as np\n",
    "import Rn\n",
    "import flowfield\n",
    "import matplotlib.pyplot as plt\n",
    "from matplotlib.animation import FFMpegWriter\n",
    "import matplotlib.cm as cm\n",
    "from matplotlib.colors import Normalize\n",
    "from tqdm import tqdm"
   ]
  },
  {
   "cell_type": "code",
   "execution_count": null,
   "metadata": {},
   "outputs": [],
   "source": [
    "r2 = Rn.Rn(2)"
   ]
  },
  {
   "cell_type": "code",
   "execution_count": null,
   "metadata": {},
   "outputs": [],
   "source": [
    "generate_videos = False"
   ]
  },
  {
   "cell_type": "markdown",
   "metadata": {},
   "source": [
    "# Distributions"
   ]
  },
  {
   "cell_type": "code",
   "execution_count": null,
   "metadata": {},
   "outputs": [],
   "source": [
    "N = 2**12"
   ]
  },
  {
   "cell_type": "markdown",
   "metadata": {},
   "source": [
    "## $X_0 \\sim \\mathcal{N}(0, I)$"
   ]
  },
  {
   "cell_type": "code",
   "execution_count": null,
   "metadata": {},
   "outputs": [],
   "source": [
    "def generate_normals(N, dim=2):\n",
    "    return torch.Tensor(np.random.randn(N, dim))"
   ]
  },
  {
   "cell_type": "code",
   "execution_count": null,
   "metadata": {},
   "outputs": [],
   "source": [
    "x_0s = generate_normals(N)"
   ]
  },
  {
   "cell_type": "markdown",
   "metadata": {},
   "source": [
    "## $X_1 \\sim \\operatorname{Uniform}(S^1)$"
   ]
  },
  {
   "cell_type": "code",
   "execution_count": null,
   "metadata": {},
   "outputs": [],
   "source": [
    "def generate_uniforms_on_circle(N, dim=2, ε=0.05):\n",
    "    normals = generate_normals(N, dim)\n",
    "    lengths = (normals**2).sum(dim=-1).sqrt()\n",
    "    non_zero = lengths > 0.\n",
    "    circle_samples = normals[non_zero] / lengths[non_zero, None]\n",
    "    return circle_samples + ε * torch.randn(circle_samples.shape)"
   ]
  },
  {
   "cell_type": "code",
   "execution_count": null,
   "metadata": {},
   "outputs": [],
   "source": [
    "x_1s = generate_uniforms_on_circle(N)"
   ]
  },
  {
   "cell_type": "code",
   "execution_count": null,
   "metadata": {},
   "outputs": [],
   "source": [
    "fig, ax = plt.subplots(1, 2, figsize=(10, 5))\n",
    "ax[0].scatter(x_0s[:, 0], x_0s[:, 1], marker=\".\")\n",
    "ax[0].set_xlim(-3, 3)\n",
    "ax[0].set_ylim(-3, 3)\n",
    "ax[0].set_title(\"$X_0$\")\n",
    "ax[1].scatter(x_1s[:, 0], x_1s[:, 1], marker=\".\")\n",
    "ax[1].set_xlim(-3, 3)\n",
    "ax[1].set_ylim(-3, 3)\n",
    "ax[1].set_title(\"$X_1$\");"
   ]
  },
  {
   "cell_type": "markdown",
   "metadata": {},
   "source": [
    "# Models"
   ]
  },
  {
   "cell_type": "markdown",
   "metadata": {},
   "source": [
    "## Training"
   ]
  },
  {
   "cell_type": "code",
   "execution_count": null,
   "metadata": {},
   "outputs": [],
   "source": [
    "BATCH_SIZE = 2**10\n",
    "EPOCHS = 100\n",
    "device = \"cpu\""
   ]
  },
  {
   "cell_type": "code",
   "execution_count": null,
   "metadata": {},
   "outputs": [],
   "source": [
    "train_loader = torch.utils.data.DataLoader(\n",
    "    torch.utils.data.TensorDataset(x_0s, x_1s), batch_size=BATCH_SIZE, shuffle=True\n",
    ")"
   ]
  },
  {
   "cell_type": "code",
   "execution_count": null,
   "metadata": {},
   "outputs": [],
   "source": [
    "model_FM = flowfield.FlowField(r2).to(device)\n",
    "optimizer_FM = torch.optim.Adam(model_FM.parameters(), 1e-2)\n",
    "# loss = nn.MSELoss()\n",
    "loss = flowfield.LogarithmicDistance(torch.Tensor([1., 1.]))"
   ]
  },
  {
   "cell_type": "code",
   "execution_count": null,
   "metadata": {},
   "outputs": [],
   "source": [
    "losses_FM = np.zeros(EPOCHS)\n",
    "for i in tqdm(range(EPOCHS)):\n",
    "    losses_FM[i] = model_FM.train_network(device, train_loader, optimizer_FM, loss)"
   ]
  },
  {
   "cell_type": "code",
   "execution_count": null,
   "metadata": {},
   "outputs": [],
   "source": [
    "fig, ax = plt.subplots(1, 1, figsize=(5, 5))\n",
    "ax.plot(losses_FM)\n",
    "ax.set_title(\"Batch Loss Flow Matching\");"
   ]
  },
  {
   "cell_type": "code",
   "execution_count": null,
   "metadata": {},
   "outputs": [],
   "source": [
    "model_SCFM = flowfield.ShortCutField(r2).to(device)\n",
    "optimizer_SCFM = torch.optim.Adam(model_SCFM.parameters(), 1e-2, weight_decay=0)"
   ]
  },
  {
   "cell_type": "code",
   "execution_count": null,
   "metadata": {},
   "outputs": [],
   "source": [
    "losses_SCFM = np.zeros(EPOCHS)\n",
    "for i in tqdm(range(EPOCHS)):\n",
    "    losses_SCFM[i] = model_SCFM.train_network(device, train_loader, optimizer_SCFM, loss)"
   ]
  },
  {
   "cell_type": "code",
   "execution_count": null,
   "metadata": {},
   "outputs": [],
   "source": [
    "fig, ax = plt.subplots(1, 1, figsize=(5, 5))\n",
    "ax.plot(losses_SCFM)\n",
    "ax.set_title(\"Batch Loss Short Cut Flow Matching\");"
   ]
  },
  {
   "cell_type": "markdown",
   "metadata": {},
   "source": [
    "# Testing"
   ]
  },
  {
   "cell_type": "code",
   "execution_count": null,
   "metadata": {},
   "outputs": [],
   "source": [
    "model_FM.eval()\n",
    "model_SCFM.eval()\n",
    "x_0s_test = generate_normals(2**6).to(device)"
   ]
  },
  {
   "cell_type": "code",
   "execution_count": null,
   "metadata": {},
   "outputs": [],
   "source": [
    "N_steps = 3\n",
    "N_rows = 2\n",
    "N_cols = 2\n",
    "N_plots = N_rows * N_cols\n",
    "N_skip = int(N_steps / (N_plots - 1))\n",
    "x_ts_test = x_0s_test.detach().clone()\n",
    "t = 0\n",
    "Δt = 1 / N_steps\n",
    "fig, ax = plt.subplots(N_rows, N_cols, figsize=(N_cols * 5, N_rows * 5))\n",
    "x_0s_test_plot = x_0s_test.to(\"cpu\")\n",
    "index = np.unravel_index(0, (N_rows, N_cols))\n",
    "ax[index].scatter(x_0s_test_plot[:, 0], x_0s_test_plot[:, 1], marker=\".\")\n",
    "ax[index].set_xlim(-3, 3)\n",
    "ax[index].set_ylim(-3, 3)\n",
    "ax[index].set_title(\"$X_0$\")\n",
    "with torch.no_grad():\n",
    "    for i in range(N_plots-1):\n",
    "        for _ in range(N_skip):\n",
    "            x_ts_test = model_FM.step(x_ts_test, torch.Tensor([t]), Δt)\n",
    "            t += Δt\n",
    "        x_ts_test_plot = x_ts_test.to(\"cpu\")\n",
    "        index = np.unravel_index(i+1, (N_rows, N_cols))\n",
    "        ax[index].scatter(x_ts_test_plot[:, 0], x_ts_test_plot[:, 1], marker=\".\")\n",
    "        ax[index].set_xlim(-3, 3)\n",
    "        ax[index].set_ylim(-3, 3)\n",
    "        ax[index].set_title(f\"$X_{{{t:.2f}}}$\")\n",
    "    x_1s_test = x_ts_test"
   ]
  },
  {
   "cell_type": "code",
   "execution_count": null,
   "metadata": {},
   "outputs": [],
   "source": [
    "N_steps = 3\n",
    "N_rows = 2\n",
    "N_cols = 2\n",
    "N_plots = N_rows * N_cols\n",
    "N_skip = int(N_steps / (N_plots - 1))\n",
    "x_ts_test = x_0s_test.detach().clone()\n",
    "t = 0\n",
    "Δt = 1 / N_steps\n",
    "fig, ax = plt.subplots(N_rows, N_cols, figsize=(N_cols * 5, N_rows * 5))\n",
    "x_0s_test_plot = x_0s_test.to(\"cpu\")\n",
    "index = np.unravel_index(0, (N_rows, N_cols))\n",
    "ax[index].scatter(x_0s_test_plot[:, 0], x_0s_test_plot[:, 1], marker=\".\")\n",
    "ax[index].set_xlim(-3, 3)\n",
    "ax[index].set_ylim(-3, 3)\n",
    "ax[index].set_title(\"$X_0$\")\n",
    "with torch.no_grad():\n",
    "    for i in range(N_plots-1):\n",
    "        for _ in range(N_skip):\n",
    "            x_ts_test = model_SCFM.step(x_ts_test, torch.Tensor([t]), torch.Tensor([Δt]))\n",
    "            t += Δt\n",
    "        x_ts_test_plot = x_ts_test.to(\"cpu\")\n",
    "        index = np.unravel_index(i+1, (N_rows, N_cols))\n",
    "        ax[index].scatter(x_ts_test_plot[:, 0], x_ts_test_plot[:, 1], marker=\".\")\n",
    "        ax[index].set_xlim(-3, 3)\n",
    "        ax[index].set_ylim(-3, 3)\n",
    "        ax[index].set_title(f\"$X_{{{t:.2f}}}$\")\n",
    "    x_1s_test = x_ts_test"
   ]
  },
  {
   "cell_type": "code",
   "execution_count": null,
   "metadata": {},
   "outputs": [],
   "source": [
    "if generate_videos:\n",
    "    metadata = {'title': 'Flow Matching', 'artist': 'Matplotlib'}\n",
    "    writer = FFMpegWriter(fps=60, metadata=metadata)\n",
    "\n",
    "    x_ts_test = x_0s_test.detach().clone()\n",
    "\n",
    "    fig, ax = plt.subplots(1, 1, figsize=(5, 5))\n",
    "\n",
    "    with writer.saving(fig, \"flow_matching.mp4\", dpi=300):\n",
    "        x_ts_test_plot = x_ts_test.to(\"cpu\")\n",
    "        ax.scatter(x_ts_test_plot[:, 0], x_ts_test_plot[:, 1], marker=\".\")\n",
    "        ax.set_title(f\"$X_{{{t:.2f}}}$\")\n",
    "        ax.set_xlim(-3, 3)\n",
    "        ax.set_ylim(-3, 3)\n",
    "        writer.grab_frame()\n",
    "        for frame in range(N_steps):\n",
    "            t = frame * Δt\n",
    "            with torch.no_grad():\n",
    "                x_ts_test = model_FM.step(x_ts_test, torch.Tensor([t]), Δt)\n",
    "            ax.clear()\n",
    "            ax.scatter(x_ts_test[:, 0], x_ts_test[:, 1])\n",
    "            ax.set_title(f\"$X_{{{t:.2f}}}$\")\n",
    "            ax.set_xlim(-3, 3)\n",
    "            ax.set_ylim(-3, 3)\n",
    "            writer.grab_frame()"
   ]
  },
  {
   "cell_type": "code",
   "execution_count": null,
   "metadata": {},
   "outputs": [],
   "source": [
    "N_grid = 9\n",
    "xs, ys = torch.meshgrid(torch.linspace(-3, 3, N_grid + 2)[1:-1], torch.linspace(-3, 3, N_grid + 2)[1:-1], indexing=\"xy\")\n",
    "xs = xs.flatten()\n",
    "ys = ys.flatten()\n",
    "grid = torch.vstack((xs, ys)).T.contiguous().to(device)"
   ]
  },
  {
   "cell_type": "code",
   "execution_count": null,
   "metadata": {},
   "outputs": [],
   "source": [
    "N_rows = 3\n",
    "N_cols = 3\n",
    "N_plots = N_rows * N_cols\n",
    "N_steps = N_plots - 1\n",
    "\n",
    "t = 0\n",
    "Δt = 1 / N_steps\n",
    "\n",
    "norm = Normalize()\n",
    "colormap = cm.inferno\n",
    "\n",
    "fig, ax = plt.subplots(N_rows, N_cols, figsize=(N_cols * 5, N_rows * 5))\n",
    "for i in range(N_plots):\n",
    "    with torch.no_grad():\n",
    "        vectors = model_FM(grid, t * torch.ones(len(grid))[..., None]).to(\"cpu\")\n",
    "\n",
    "    colors = torch.arctan2(vectors[:, 0], vectors[:, 1])\n",
    "    norm.autoscale(colors)\n",
    "\n",
    "    index = np.unravel_index(i, (N_rows, N_cols))\n",
    "    ax[index].quiver(xs, ys, vectors[:, 0], vectors[:, 1], color=colormap(norm(colors)))\n",
    "    ax[index].set_xlim(-3, 3)\n",
    "    ax[index].set_ylim(-3, 3)\n",
    "    ax[index].set_title(f\"$u_{{{t:.2f}}}$\")\n",
    "    t += Δt"
   ]
  },
  {
   "cell_type": "code",
   "execution_count": null,
   "metadata": {},
   "outputs": [],
   "source": [
    "if generate_videos:\n",
    "    metadata = {'title': 'Flow Field', 'artist': 'Matplotlib'}\n",
    "    writer = FFMpegWriter(fps=60, metadata=metadata)\n",
    "\n",
    "    N_steps = 500\n",
    "    t = 0\n",
    "    Δt = 1 / N_steps\n",
    "\n",
    "    norm = Normalize()\n",
    "    colormap = cm.inferno\n",
    "\n",
    "    fig, ax = plt.subplots(1, 1, figsize=(5, 5))\n",
    "\n",
    "    with writer.saving(fig, \"flow_field.mp4\", dpi=300):\n",
    "        for frame in range(N_steps):\n",
    "            t = frame * Δt\n",
    "            with torch.no_grad():\n",
    "                vectors = model_FM(grid, t * torch.ones(len(grid))[..., None]).to(\"cpu\")\n",
    "\n",
    "            colors = torch.arctan2(vectors[:, 0], vectors[:, 1])\n",
    "            norm.autoscale(colors)\n",
    "            \n",
    "            ax.clear()\n",
    "            ax.quiver(xs, ys, vectors[:, 0], vectors[:, 1], color=colormap(norm(colors)))\n",
    "            ax.set_title(f\"$X_{{{t:.2f}}}$\")\n",
    "            ax.set_xlim(-3, 3)\n",
    "            ax.set_ylim(-3, 3)\n",
    "            writer.grab_frame()\n",
    "        writer.grab_frame()"
   ]
  },
  {
   "cell_type": "code",
   "execution_count": null,
   "metadata": {},
   "outputs": [],
   "source": []
  }
 ],
 "metadata": {
  "kernelspec": {
   "display_name": "flow-matching",
   "language": "python",
   "name": "python3"
  },
  "language_info": {
   "codemirror_mode": {
    "name": "ipython",
    "version": 3
   },
   "file_extension": ".py",
   "mimetype": "text/x-python",
   "name": "python",
   "nbconvert_exporter": "python",
   "pygments_lexer": "ipython3",
   "version": "3.12.8"
  }
 },
 "nbformat": 4,
 "nbformat_minor": 2
}
