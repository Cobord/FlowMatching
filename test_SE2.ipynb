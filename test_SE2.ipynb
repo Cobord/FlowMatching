{
 "cells": [
  {
   "cell_type": "code",
   "execution_count": 1,
   "metadata": {},
   "outputs": [],
   "source": [
    "import torch\n",
    "import numpy as np\n",
    "import SE2\n",
    "import matplotlib.pyplot as plt\n",
    "from matplotlib.animation import FFMpegWriter"
   ]
  },
  {
   "cell_type": "code",
   "execution_count": 2,
   "metadata": {},
   "outputs": [],
   "source": [
    "se2 = SE2.SE2()"
   ]
  },
  {
   "cell_type": "code",
   "execution_count": 3,
   "metadata": {},
   "outputs": [],
   "source": [
    "t_1 = np.random.randn(2)\n",
    "r_1 = 2 * np.pi * np.random.rand(1)\n",
    "g_1 = torch.Tensor(np.hstack((t_1, r_1)))\n",
    "t_2 = np.random.randn(2)\n",
    "r_2 = 2 * np.pi * np.random.rand(1)\n",
    "g_2 = torch.Tensor(np.hstack((t_2, r_2)))\n",
    "\n",
    "A = se2.log(se2.L_inv(g_1, g_2))"
   ]
  },
  {
   "cell_type": "code",
   "execution_count": 4,
   "metadata": {},
   "outputs": [],
   "source": [
    "ts = torch.linspace(0., 1., 100)\n",
    "g_t = se2.L(g_1, se2.exp(ts[..., None] * A[None, ...]))"
   ]
  },
  {
   "cell_type": "code",
   "execution_count": null,
   "metadata": {},
   "outputs": [],
   "source": [
    "fig, ax = plt.subplots(1, 1, figsize=(10, 10))\n",
    "ax.quiver(g_t[::10, 0], g_t[::10, 1], torch.cos(g_t[::10, 2]), torch.sin(g_t[::10, 2]))\n",
    "ax.quiver(g_1[0], g_1[1], torch.cos(g_1[2]), torch.sin(g_1[2]), color=\"blue\")\n",
    "ax.quiver(g_2[0], g_2[1], torch.cos(g_2[2]), torch.sin(g_2[2]), color=\"green\")\n",
    "ax.plot(g_t[:, 0], g_t[:, 1])\n",
    "ax.set_xlim(-3, 3)\n",
    "ax.set_ylim(-3, 3);"
   ]
  },
  {
   "cell_type": "code",
   "execution_count": null,
   "metadata": {},
   "outputs": [],
   "source": [
    "metadata = {'title': 'Exponential Curve Interpolation SE(2)', 'artist': 'Matplotlib'}\n",
    "writer = FFMpegWriter(fps=2, metadata=metadata)\n",
    "\n",
    "fig, ax = plt.subplots(1, 1, figsize=(5, 5))\n",
    "with writer.saving(fig, \"exponential_curves.mp4\", dpi=300):\n",
    "    for frame in range(50):\n",
    "        t_1 = np.random.randn(2)\n",
    "        r_1 = 2 * np.pi * np.random.rand(1)\n",
    "        g_1 = torch.Tensor(np.hstack((t_1, r_1)))\n",
    "        t_2 = np.random.randn(2)\n",
    "        r_2 = 2 * np.pi * np.random.rand(1)\n",
    "        g_2 = torch.Tensor(np.hstack((t_2, r_2)))\n",
    "\n",
    "        A = se2.log(se2.L_inv(g_1, g_2))\n",
    "\n",
    "        ts = torch.linspace(0., 1., 100)\n",
    "        g_t = se2.L(g_1, se2.exp(ts[..., None] * A[None, ...]))\n",
    "        \n",
    "        ax.clear()\n",
    "        ax.quiver(g_t[::10, 0], g_t[::10, 1], torch.cos(g_t[::10, 2]), torch.sin(g_t[::10, 2]))\n",
    "        ax.quiver(g_1[0], g_1[1], torch.cos(g_1[2]), torch.sin(g_1[2]), color=\"blue\")\n",
    "        ax.quiver(g_2[0], g_2[1], torch.cos(g_2[2]), torch.sin(g_2[2]), color=\"green\")\n",
    "        ax.plot(g_t[:, 0], g_t[:, 1])\n",
    "        ax.set_xlim(-3, 3)\n",
    "        ax.set_ylim(-3, 3)\n",
    "        writer.grab_frame()"
   ]
  },
  {
   "cell_type": "code",
   "execution_count": null,
   "metadata": {},
   "outputs": [],
   "source": []
  }
 ],
 "metadata": {
  "kernelspec": {
   "display_name": "flow-matching",
   "language": "python",
   "name": "python3"
  },
  "language_info": {
   "codemirror_mode": {
    "name": "ipython",
    "version": 3
   },
   "file_extension": ".py",
   "mimetype": "text/x-python",
   "name": "python",
   "nbconvert_exporter": "python",
   "pygments_lexer": "ipython3",
   "version": "3.12.8"
  }
 },
 "nbformat": 4,
 "nbformat_minor": 2
}
