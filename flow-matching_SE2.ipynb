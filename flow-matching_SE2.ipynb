{
 "cells": [
  {
   "cell_type": "code",
   "execution_count": 1,
   "metadata": {},
   "outputs": [],
   "source": [
    "import torch\n",
    "import torch.nn as nn\n",
    "import numpy as np\n",
    "import SE2\n",
    "import matplotlib.pyplot as plt\n",
    "from matplotlib.animation import FFMpegWriter\n",
    "from tqdm import tqdm"
   ]
  },
  {
   "cell_type": "code",
   "execution_count": 2,
   "metadata": {},
   "outputs": [],
   "source": [
    "generate_videos = False"
   ]
  },
  {
   "cell_type": "markdown",
   "metadata": {},
   "source": [
    "# Distributions"
   ]
  },
  {
   "cell_type": "code",
   "execution_count": 3,
   "metadata": {},
   "outputs": [],
   "source": [
    "N = 2**12"
   ]
  },
  {
   "cell_type": "markdown",
   "metadata": {},
   "source": [
    "## $G_0 \\sim \\mathcal{N}(0, I)$"
   ]
  },
  {
   "cell_type": "code",
   "execution_count": 4,
   "metadata": {},
   "outputs": [],
   "source": [
    "def generate_normals(N):\n",
    "    translations = np.random.randn(N, 2)\n",
    "    rotations = 2 * np.pi * np.random.rand(N)\n",
    "    g = np.hstack((translations, rotations[..., None]))\n",
    "    return torch.Tensor(g)"
   ]
  },
  {
   "cell_type": "code",
   "execution_count": 5,
   "metadata": {},
   "outputs": [],
   "source": [
    "g_0s = generate_normals(N)"
   ]
  },
  {
   "cell_type": "markdown",
   "metadata": {},
   "source": [
    "## $G_1 \\sim \\operatorname{Uniform}(S^1)$"
   ]
  },
  {
   "cell_type": "code",
   "execution_count": 6,
   "metadata": {},
   "outputs": [],
   "source": [
    "def generate_uniforms_on_circle(N, ε=0.05):\n",
    "    normals = torch.Tensor(np.random.randn(N, 2))\n",
    "    lengths = (normals**2).sum(dim=-1).sqrt()\n",
    "    non_zero = lengths > 0.\n",
    "    circle_samples = normals[non_zero] / lengths[non_zero, None]\n",
    "    angles = SE2.mod_offset(torch.arctan2(circle_samples[..., 1], circle_samples[..., 0]), 2 * np.pi, 0.)\n",
    "    gs = torch.hstack((circle_samples, angles[..., None]))\n",
    "    return gs + ε * torch.randn(gs.shape)"
   ]
  },
  {
   "cell_type": "code",
   "execution_count": 7,
   "metadata": {},
   "outputs": [],
   "source": [
    "g_1s = generate_uniforms_on_circle(N)"
   ]
  },
  {
   "cell_type": "code",
   "execution_count": null,
   "metadata": {},
   "outputs": [],
   "source": [
    "fig, ax = plt.subplots(1, 2, figsize=(10, 5))\n",
    "ax[0].quiver(g_0s[:32, 0], g_0s[:32, 1], torch.cos(g_0s[:32, 2]), torch.sin(g_0s[:32, 2]))\n",
    "ax[0].set_xlim(-3, 3)\n",
    "ax[0].set_ylim(-3, 3)\n",
    "ax[0].set_title(\"$G_0$\")\n",
    "ax[1].quiver(g_1s[:32, 0], g_1s[:32, 1], torch.cos(g_1s[:32, 2]), torch.sin(g_1s[:32, 2]))\n",
    "ax[1].set_xlim(-3, 3)\n",
    "ax[1].set_ylim(-3, 3)\n",
    "ax[1].set_title(\"$G_1$\");"
   ]
  },
  {
   "cell_type": "markdown",
   "metadata": {},
   "source": [
    "# Models"
   ]
  },
  {
   "cell_type": "code",
   "execution_count": 9,
   "metadata": {},
   "outputs": [],
   "source": [
    "class FlowField(nn.Module):\n",
    "    def __init__(self, H=64):\n",
    "        super().__init__()\n",
    "        self.network = nn.Sequential(\n",
    "            nn.Linear(4, H), nn.ReLU(),\n",
    "            nn.Linear(H, H), nn.ReLU(),\n",
    "            nn.Linear(H, H), nn.ReLU(),\n",
    "            nn.Linear(H, 3)\n",
    "        )\n",
    "\n",
    "    def forward(self, g_t, t):\n",
    "        return self.network(torch.cat((g_t, t), dim=-1))\n",
    "    \n",
    "    def step(self, g_t, t, Δt):\n",
    "        t = t.view(1, 1).expand(g_t.shape[0], 1)\n",
    "        return SE2.L(g_t, SE2.exp(Δt * self(g_t, t)))"
   ]
  },
  {
   "cell_type": "markdown",
   "metadata": {},
   "source": [
    "## Training"
   ]
  },
  {
   "cell_type": "code",
   "execution_count": 10,
   "metadata": {},
   "outputs": [],
   "source": [
    "BATCH_SIZE = 2**8\n",
    "EPOCHS = 100\n",
    "device = \"cpu\""
   ]
  },
  {
   "cell_type": "code",
   "execution_count": 11,
   "metadata": {},
   "outputs": [],
   "source": [
    "train_loader = torch.utils.data.DataLoader(\n",
    "    torch.utils.data.TensorDataset(g_0s, g_1s), batch_size=BATCH_SIZE, shuffle=True\n",
    ")"
   ]
  },
  {
   "cell_type": "code",
   "execution_count": 12,
   "metadata": {},
   "outputs": [],
   "source": [
    "def train_FM(model, device, train_loader, optimizer, loss):\n",
    "    model.train()\n",
    "    N_batches = len(train_loader)\n",
    "    losses = np.zeros(N_batches)\n",
    "    for i, (g_0, g_1) in tqdm(\n",
    "        enumerate(train_loader),\n",
    "        total=N_batches,\n",
    "        desc=\"Training\",\n",
    "        dynamic_ncols=True,\n",
    "        unit=\"batch\"\n",
    "    ):\n",
    "        t = torch.rand(len(g_1), 1)\n",
    "        g_0, g_1 = g_0.to(device), g_1.to(device)\n",
    "        A_t = SE2.log(SE2.L_inv(g_0, g_1))\n",
    "        g_t = SE2.L(g_0, SE2.exp(t * A_t))\n",
    "        optimizer.zero_grad()\n",
    "        batch_loss = loss(model(g_t, t), A_t)\n",
    "        losses[i] = float(batch_loss.cpu().item())\n",
    "        batch_loss.backward()\n",
    "        optimizer.step()\n",
    "    return losses.mean()"
   ]
  },
  {
   "cell_type": "code",
   "execution_count": 13,
   "metadata": {},
   "outputs": [],
   "source": [
    "model_FM = FlowField().to(device)\n",
    "optimizer_FM = torch.optim.Adam(model_FM.parameters(), 1e-2)\n",
    "loss = nn.MSELoss()"
   ]
  },
  {
   "cell_type": "code",
   "execution_count": null,
   "metadata": {},
   "outputs": [],
   "source": [
    "losses_FM = np.zeros(EPOCHS)\n",
    "for i in tqdm(range(EPOCHS)):\n",
    "    losses_FM[i] = train_FM(model_FM, device, train_loader, optimizer_FM, loss)"
   ]
  },
  {
   "cell_type": "code",
   "execution_count": null,
   "metadata": {},
   "outputs": [],
   "source": [
    "fig, ax = plt.subplots(1, 1, figsize=(5, 5))\n",
    "ax.plot(losses_FM)\n",
    "ax.set_title(\"Batch Loss Flow Matching\");"
   ]
  },
  {
   "cell_type": "markdown",
   "metadata": {},
   "source": [
    "## Testing"
   ]
  },
  {
   "cell_type": "code",
   "execution_count": 16,
   "metadata": {},
   "outputs": [],
   "source": [
    "model_FM.eval()\n",
    "g_0s_test = generate_normals(BATCH_SIZE).to(device)"
   ]
  },
  {
   "cell_type": "code",
   "execution_count": null,
   "metadata": {},
   "outputs": [],
   "source": [
    "N_steps = 21\n",
    "N_rows = 2\n",
    "N_cols = 2\n",
    "N_plots = N_rows * N_cols\n",
    "N_skip = int(N_steps / (N_plots - 1))\n",
    "g_ts_test = g_0s_test.detach().clone()\n",
    "t = 0\n",
    "Δt = 1 / N_steps\n",
    "fig, ax = plt.subplots(N_rows, N_cols, figsize=(N_cols * 5, N_rows * 5))\n",
    "g_0s_test_plot = g_0s_test.to(\"cpu\")\n",
    "index = np.unravel_index(0, (N_rows, N_cols))\n",
    "ax[index].quiver(g_0s_test_plot[:, 0], g_0s_test_plot[:, 1], torch.cos(g_0s_test_plot[:, 2]), torch.sin(g_0s_test_plot[:, 2]))\n",
    "ax[index].set_xlim(-3, 3)\n",
    "ax[index].set_ylim(-3, 3)\n",
    "ax[index].set_title(\"$G_0$\")\n",
    "with torch.no_grad():\n",
    "    for i in range(N_plots-1):\n",
    "        for _ in range(N_skip):\n",
    "            g_ts_test = model_FM.step(g_ts_test, torch.Tensor([t]), Δt)\n",
    "            t += Δt\n",
    "        g_ts_test_plot = g_ts_test.to(\"cpu\")\n",
    "        index = np.unravel_index(i+1, (N_rows, N_cols))\n",
    "        ax[index].quiver(g_ts_test_plot[:, 0], g_ts_test_plot[:, 1], torch.cos(g_ts_test_plot[:, 2]), torch.sin(g_ts_test_plot[:, 2]))\n",
    "        ax[index].set_xlim(-3, 3)\n",
    "        ax[index].set_ylim(-3, 3)\n",
    "        ax[index].set_title(f\"$G_{{{t:.2f}}}$\")\n",
    "    g_1s_test = g_ts_test"
   ]
  },
  {
   "cell_type": "code",
   "execution_count": 18,
   "metadata": {},
   "outputs": [],
   "source": [
    "generate_videos = True"
   ]
  },
  {
   "cell_type": "code",
   "execution_count": null,
   "metadata": {},
   "outputs": [],
   "source": [
    "if generate_videos:\n",
    "    t = 0\n",
    "    N_steps = 240\n",
    "    Δt = 1. / N_steps\n",
    "    metadata = {'title': 'Flow Matching SE(2)', 'artist': 'Matplotlib'}\n",
    "    writer = FFMpegWriter(fps=60, metadata=metadata)\n",
    "\n",
    "    g_ts_test = g_0s_test.detach().clone()\n",
    "\n",
    "    fig, ax = plt.subplots(1, 1, figsize=(5, 5))\n",
    "\n",
    "    with writer.saving(fig, \"flow_matching_SE2.mp4\", dpi=300):\n",
    "        g_ts_test_plot = g_ts_test.to(\"cpu\")\n",
    "        ax.quiver(g_ts_test_plot[:, 0], g_ts_test_plot[:, 1], torch.cos(g_ts_test_plot[:, 2]), torch.sin(g_ts_test_plot[:, 2]))\n",
    "        ax.set_title(f\"$G_{{{t:.2f}}}$\")\n",
    "        ax.set_xlim(-3, 3)\n",
    "        ax.set_ylim(-3, 3)\n",
    "        writer.grab_frame()\n",
    "        for frame in range(N_steps):\n",
    "            t = frame * Δt\n",
    "            with torch.no_grad():\n",
    "                g_ts_test = model_FM.step(g_ts_test, torch.Tensor([t]), Δt)\n",
    "            ax.clear()\n",
    "            g_ts_test_plot = g_ts_test.to(\"cpu\")\n",
    "            ax.quiver(g_ts_test_plot[:, 0], g_ts_test_plot[:, 1], torch.cos(g_ts_test_plot[:, 2]), torch.sin(g_ts_test_plot[:, 2]))\n",
    "            ax.set_title(f\"$G_{{{t:.2f}}}$\")\n",
    "            ax.set_xlim(-3, 3)\n",
    "            ax.set_ylim(-3, 3)\n",
    "            writer.grab_frame()"
   ]
  },
  {
   "cell_type": "code",
   "execution_count": null,
   "metadata": {},
   "outputs": [],
   "source": []
  }
 ],
 "metadata": {
  "kernelspec": {
   "display_name": "flow-matching",
   "language": "python",
   "name": "python3"
  },
  "language_info": {
   "codemirror_mode": {
    "name": "ipython",
    "version": 3
   },
   "file_extension": ".py",
   "mimetype": "text/x-python",
   "name": "python",
   "nbconvert_exporter": "python",
   "pygments_lexer": "ipython3",
   "version": "3.12.8"
  }
 },
 "nbformat": 4,
 "nbformat_minor": 2
}
