{
 "cells": [
  {
   "cell_type": "code",
   "execution_count": null,
   "metadata": {},
   "outputs": [],
   "source": [
    "import torch\n",
    "import numpy as np\n",
    "import SE2\n",
    "import flowfield\n",
    "import matplotlib.pyplot as plt\n",
    "from matplotlib.animation import FFMpegWriter\n",
    "import matplotlib.colors as mcolors\n",
    "from matplotlib.cm import ScalarMappable\n",
    "from tqdm import tqdm"
   ]
  },
  {
   "cell_type": "code",
   "execution_count": null,
   "metadata": {},
   "outputs": [],
   "source": [
    "se2 = SE2.SE2()"
   ]
  },
  {
   "cell_type": "code",
   "execution_count": null,
   "metadata": {},
   "outputs": [],
   "source": [
    "generate_videos = True"
   ]
  },
  {
   "cell_type": "markdown",
   "metadata": {},
   "source": [
    "# Distributions"
   ]
  },
  {
   "cell_type": "code",
   "execution_count": null,
   "metadata": {},
   "outputs": [],
   "source": [
    "N = 2**12"
   ]
  },
  {
   "cell_type": "code",
   "execution_count": null,
   "metadata": {},
   "outputs": [],
   "source": [
    "def generate_normals(N):\n",
    "    translations = np.random.randn(N, 2)\n",
    "    rotations = 2 * np.pi * np.random.rand(N)\n",
    "    g = np.hstack((translations, rotations[..., None]))\n",
    "    return torch.Tensor(g)\n",
    "\n",
    "def generate_uniforms_on_circle(N, ε=0.05):\n",
    "    normals = torch.Tensor(np.random.randn(N, 2))\n",
    "    lengths = (normals**2).sum(dim=-1).sqrt()\n",
    "    non_zero = lengths > 0.\n",
    "    circle_samples = normals[non_zero] / lengths[non_zero, None]\n",
    "    angles = SE2._mod_offset(torch.arctan2(circle_samples[..., 1], circle_samples[..., 0]), 2 * np.pi, 0.)\n",
    "    gs = torch.hstack((circle_samples, angles[..., None]))\n",
    "    return gs + ε * torch.randn(gs.shape)\n",
    "\n",
    "def generate_line(N, d=0., w=1., horizontal=True, ε=0.05):\n",
    "    if horizontal:\n",
    "        xs = 2 * w * (np.random.rand(N) - 0.5)\n",
    "        ys = np.ones(N) * d\n",
    "        angles = np.ones(N) * np.pi / 2.\n",
    "    else:\n",
    "        xs = np.ones(N) * d\n",
    "        ys = 2 * w * (np.random.rand(N) - 0.5)\n",
    "        angles = np.zeros(N)\n",
    "    gs = torch.Tensor(np.hstack((xs[..., None], ys[..., None], angles[..., None])))\n",
    "    return gs + ε * torch.randn(gs.shape)"
   ]
  },
  {
   "cell_type": "markdown",
   "metadata": {},
   "source": [
    "## $G_0 \\sim \\mathcal{N}(0, I)$, $G_1 \\sim \\operatorname{Uniform}(S^1)$"
   ]
  },
  {
   "cell_type": "code",
   "execution_count": null,
   "metadata": {},
   "outputs": [],
   "source": [
    "# \"line_to_line\" \"normal_to_circle\"\n",
    "test = \"line_to_line\"\n",
    "\n",
    "match test:\n",
    "    case \"line_to_line\":\n",
    "        generate_g_0 = lambda n: generate_line(n, d=-2., w=1., horizontal=True)\n",
    "        generate_g_1 = lambda n: generate_line(n, d=2, w=1., horizontal=False) \n",
    "    case \"normal_to_circle\":\n",
    "        generate_g_0 = generate_normals\n",
    "        generate_g_1 = generate_uniforms_on_circle\n",
    "\n",
    "g_0s = generate_g_0(N)\n",
    "g_1s = generate_g_1(N)"
   ]
  },
  {
   "cell_type": "code",
   "execution_count": null,
   "metadata": {},
   "outputs": [],
   "source": [
    "fig, ax = plt.subplots(1, 2, figsize=(10, 5))\n",
    "ax[0].quiver(g_0s[:32, 0], g_0s[:32, 1], torch.cos(g_0s[:32, 2]), torch.sin(g_0s[:32, 2]))\n",
    "ax[0].set_xlim(-3, 3)\n",
    "ax[0].set_ylim(-3, 3)\n",
    "ax[0].set_title(\"$G_0$\")\n",
    "ax[1].quiver(g_1s[:32, 0], g_1s[:32, 1], torch.cos(g_1s[:32, 2]), torch.sin(g_1s[:32, 2]))\n",
    "ax[1].set_xlim(-3, 3)\n",
    "ax[1].set_ylim(-3, 3)\n",
    "ax[1].set_title(\"$G_1$\");"
   ]
  },
  {
   "cell_type": "markdown",
   "metadata": {},
   "source": [
    "# Models"
   ]
  },
  {
   "cell_type": "markdown",
   "metadata": {},
   "source": [
    "## Training"
   ]
  },
  {
   "cell_type": "code",
   "execution_count": null,
   "metadata": {},
   "outputs": [],
   "source": [
    "BATCH_SIZE = 2**10\n",
    "EPOCHS = 100\n",
    "WEIGHT_DECAY = 1e-2\n",
    "device = \"cpu\""
   ]
  },
  {
   "cell_type": "code",
   "execution_count": null,
   "metadata": {},
   "outputs": [],
   "source": [
    "train_loader = torch.utils.data.DataLoader(\n",
    "    torch.utils.data.TensorDataset(g_0s, g_1s), batch_size=BATCH_SIZE, shuffle=True\n",
    ")"
   ]
  },
  {
   "cell_type": "code",
   "execution_count": null,
   "metadata": {},
   "outputs": [],
   "source": [
    "model_FM = flowfield.FlowField(se2).to(device)\n",
    "optimizer_FM = torch.optim.Adam(model_FM.parameters(), 1e-2, weight_decay=WEIGHT_DECAY)\n",
    "# import torch.nn as nn\n",
    "# loss = nn.MSELoss()\n",
    "loss = flowfield.LogarithmicDistance(torch.Tensor([1., 3., 1.]))"
   ]
  },
  {
   "cell_type": "code",
   "execution_count": null,
   "metadata": {},
   "outputs": [],
   "source": [
    "losses_FM = np.zeros(EPOCHS)\n",
    "for i in tqdm(range(EPOCHS)):\n",
    "    losses_FM[i] = model_FM.train_network(device, train_loader, optimizer_FM, loss)"
   ]
  },
  {
   "cell_type": "code",
   "execution_count": null,
   "metadata": {},
   "outputs": [],
   "source": [
    "fig, ax = plt.subplots(1, 1, figsize=(5, 5))\n",
    "ax.plot(losses_FM)\n",
    "ax.set_title(\"Batch Loss Flow Matching\");"
   ]
  },
  {
   "cell_type": "code",
   "execution_count": null,
   "metadata": {},
   "outputs": [],
   "source": [
    "model_SCFM = flowfield.ShortCutField(se2).to(device)\n",
    "optimizer_SCFM = torch.optim.Adam(model_SCFM.parameters(), 1e-2, weight_decay=WEIGHT_DECAY)"
   ]
  },
  {
   "cell_type": "code",
   "execution_count": null,
   "metadata": {},
   "outputs": [],
   "source": [
    "losses_SCFM = np.zeros(EPOCHS)\n",
    "for i in tqdm(range(EPOCHS)):\n",
    "    losses_SCFM[i] = model_SCFM.train_network(device, train_loader, optimizer_SCFM, loss)"
   ]
  },
  {
   "cell_type": "code",
   "execution_count": null,
   "metadata": {},
   "outputs": [],
   "source": [
    "fig, ax = plt.subplots(1, 1, figsize=(5, 5))\n",
    "ax.plot(losses_SCFM)\n",
    "ax.set_title(\"Batch Loss Short Cut Flow Matching\");"
   ]
  },
  {
   "cell_type": "markdown",
   "metadata": {},
   "source": [
    "## Testing"
   ]
  },
  {
   "cell_type": "code",
   "execution_count": null,
   "metadata": {},
   "outputs": [],
   "source": [
    "model_FM.eval()\n",
    "model_SCFM.eval()\n",
    "g_0s_test = generate_g_0(2**5).to(device)"
   ]
  },
  {
   "cell_type": "code",
   "execution_count": null,
   "metadata": {},
   "outputs": [],
   "source": [
    "xs_uniform = np.linspace(-2.5, 2.5, 10)\n",
    "ys_uniform = np.linspace(-2.5, 2.5, 10)\n",
    "θs_uniform = 2* np.pi * np.arange(10) / 10.\n",
    "xs_uniform, ys_uniform, θs_uniform = np.meshgrid(xs_uniform, ys_uniform, θs_uniform)\n",
    "g_0s_uniform = torch.Tensor(np.concatenate((xs_uniform[..., None], ys_uniform[..., None], θs_uniform[..., None]), axis=-1))\n",
    "print(g_0s_uniform.shape)\n",
    "ts = 0.5 * torch.ones_like(g_0s_uniform)"
   ]
  },
  {
   "cell_type": "code",
   "execution_count": null,
   "metadata": {},
   "outputs": [],
   "source": [
    "N_steps = 21\n",
    "N_rows = 2\n",
    "N_cols = 2\n",
    "N_plots = N_rows * N_cols\n",
    "N_skip = int(N_steps / (N_plots - 1))\n",
    "g_ts_test = g_0s_test.detach().clone()\n",
    "t = 0\n",
    "Δt = 1 / N_steps\n",
    "fig, ax = plt.subplots(N_rows, N_cols, figsize=(N_cols * 5, N_rows * 5))\n",
    "g_0s_test_plot = g_0s_test.to(\"cpu\")\n",
    "index = np.unravel_index(0, (N_rows, N_cols))\n",
    "ax[index].quiver(g_0s_test_plot[:, 0], g_0s_test_plot[:, 1], torch.cos(g_0s_test_plot[:, 2]), torch.sin(g_0s_test_plot[:, 2]))\n",
    "ax[index].set_xlim(-3, 3)\n",
    "ax[index].set_ylim(-3, 3)\n",
    "ax[index].set_title(\"$G_0$\")\n",
    "with torch.no_grad():\n",
    "    for i in range(N_plots-1):\n",
    "        for _ in range(N_skip):\n",
    "            g_ts_test = model_FM.step(g_ts_test, torch.Tensor([t]), Δt)\n",
    "            t += Δt\n",
    "        g_ts_test_plot = g_ts_test.to(\"cpu\")\n",
    "        index = np.unravel_index(i+1, (N_rows, N_cols))\n",
    "        ax[index].quiver(g_ts_test_plot[:, 0], g_ts_test_plot[:, 1], torch.cos(g_ts_test_plot[:, 2]), torch.sin(g_ts_test_plot[:, 2]))\n",
    "        ax[index].set_xlim(-3, 3)\n",
    "        ax[index].set_ylim(-3, 3)\n",
    "        ax[index].set_title(f\"$G_{{{t:.2f}}}$\")\n",
    "    g_1s_test = g_ts_test"
   ]
  },
  {
   "cell_type": "code",
   "execution_count": null,
   "metadata": {},
   "outputs": [],
   "source": [
    "N_steps = 21\n",
    "N_rows = 2\n",
    "N_cols = 2\n",
    "N_plots = N_rows * N_cols\n",
    "N_skip = int(N_steps / (N_plots - 1))\n",
    "g_ts_test = g_0s_test.detach().clone()\n",
    "t = 0\n",
    "Δt = 1 / N_steps\n",
    "fig, ax = plt.subplots(N_rows, N_cols, figsize=(N_cols * 5, N_rows * 5))\n",
    "g_0s_test_plot = g_0s_test.to(\"cpu\")\n",
    "index = np.unravel_index(0, (N_rows, N_cols))\n",
    "ax[index].quiver(g_0s_test_plot[:, 0], g_0s_test_plot[:, 1], torch.cos(g_0s_test_plot[:, 2]), torch.sin(g_0s_test_plot[:, 2]))\n",
    "ax[index].set_xlim(-3, 3)\n",
    "ax[index].set_ylim(-3, 3)\n",
    "ax[index].set_title(\"$G_0$\")\n",
    "with torch.no_grad():\n",
    "    for i in range(N_plots-1):\n",
    "        for _ in range(N_skip):\n",
    "            g_ts_test = model_FM.step(g_ts_test, torch.Tensor([t]), Δt)\n",
    "            t += Δt\n",
    "        g_ts_test_plot = g_ts_test.to(\"cpu\")\n",
    "        index = np.unravel_index(i+1, (N_rows, N_cols))\n",
    "        ax[index].quiver(g_ts_test_plot[:, 0], g_ts_test_plot[:, 1], torch.cos(g_ts_test_plot[:, 2]), torch.sin(g_ts_test_plot[:, 2]))\n",
    "        ax[index].set_xlim(-3, 3)\n",
    "        ax[index].set_ylim(-3, 3)\n",
    "        ax[index].set_title(f\"$G_{{{t:.2f}}}$\")\n",
    "    g_1s_test = g_ts_test"
   ]
  },
  {
   "cell_type": "code",
   "execution_count": null,
   "metadata": {},
   "outputs": [],
   "source": [
    "N_steps = 21\n",
    "N_rows = 2\n",
    "N_cols = 2\n",
    "N_plots = N_rows * N_cols\n",
    "N_skip = int(N_steps / (N_plots - 1))\n",
    "g_ts_test = g_0s_test.detach().clone()\n",
    "t = 0\n",
    "Δt = 1 / N_steps\n",
    "fig, ax = plt.subplots(N_rows, N_cols, figsize=(N_cols * 5, N_rows * 5))\n",
    "g_0s_test_plot = g_0s_test.to(\"cpu\")\n",
    "index = np.unravel_index(0, (N_rows, N_cols))\n",
    "ax[index].quiver(g_0s_test_plot[:, 0], g_0s_test_plot[:, 1], torch.cos(g_0s_test_plot[:, 2]), torch.sin(g_0s_test_plot[:, 2]))\n",
    "ax[index].set_xlim(-3, 3)\n",
    "ax[index].set_ylim(-3, 3)\n",
    "ax[index].set_title(\"$G_0$\")\n",
    "with torch.no_grad():\n",
    "    for i in range(N_plots-1):\n",
    "        for _ in range(N_skip):\n",
    "            g_ts_test = model_FM.step(g_ts_test, torch.Tensor([t]), Δt)\n",
    "            t += Δt\n",
    "        g_ts_test_plot = g_ts_test.to(\"cpu\")\n",
    "        index = np.unravel_index(i+1, (N_rows, N_cols))\n",
    "        ax[index].quiver(g_ts_test_plot[:, 0], g_ts_test_plot[:, 1], torch.cos(g_ts_test_plot[:, 2]), torch.sin(g_ts_test_plot[:, 2]))\n",
    "        ax[index].set_xlim(-3, 3)\n",
    "        ax[index].set_ylim(-3, 3)\n",
    "        ax[index].set_title(f\"$G_{{{t:.2f}}}$\")\n",
    "    g_1s_test = g_ts_test"
   ]
  },
  {
   "cell_type": "code",
   "execution_count": null,
   "metadata": {},
   "outputs": [],
   "source": [
    "N_steps = 21\n",
    "N_rows = 2\n",
    "N_cols = 2\n",
    "N_plots = N_rows * N_cols\n",
    "N_skip = int(N_steps / (N_plots - 1))\n",
    "g_ts_test = g_0s_test.detach().clone()\n",
    "t = 0\n",
    "Δt = 1 / N_steps\n",
    "fig, ax = plt.subplots(N_rows, N_cols, figsize=(N_cols * 5, N_rows * 5))\n",
    "g_0s_test_plot = g_0s_test.to(\"cpu\")\n",
    "index = np.unravel_index(0, (N_rows, N_cols))\n",
    "ax[index].quiver(\n",
    "    g_0s_test_plot[:, 0], g_0s_test_plot[:, 1],\n",
    "    torch.cos(g_0s_test_plot[:, 2]), torch.sin(g_0s_test_plot[:, 2])\n",
    ")\n",
    "ax[index].set_xlim(-3, 3)\n",
    "ax[index].set_ylim(-3, 3)\n",
    "ax[index].set_title(\"$G_0$\")\n",
    "with torch.no_grad():\n",
    "    for i in range(N_plots-1):\n",
    "        for _ in range(N_skip):\n",
    "            g_ts_test = model_SCFM.step(g_ts_test, torch.Tensor([t]), torch.Tensor([Δt]))\n",
    "            t += Δt\n",
    "        g_ts_test_plot = g_ts_test.to(\"cpu\")\n",
    "        index = np.unravel_index(i+1, (N_rows, N_cols))\n",
    "        ax[index].quiver(\n",
    "            g_ts_test_plot[:, 0], g_ts_test_plot[:, 1],\n",
    "            torch.cos(g_ts_test_plot[:, 2]), torch.sin(g_ts_test_plot[:, 2])\n",
    "        )\n",
    "        ax[index].set_xlim(-3, 3)\n",
    "        ax[index].set_ylim(-3, 3)\n",
    "        ax[index].set_title(f\"$G_{{{t:.2f}}}$\")\n",
    "    g_1s_test = g_ts_test"
   ]
  },
  {
   "cell_type": "code",
   "execution_count": null,
   "metadata": {},
   "outputs": [],
   "source": [
    "if generate_videos:\n",
    "    t = 0\n",
    "    N_steps = 240\n",
    "    Δt = 1. / N_steps\n",
    "    metadata = {'title': 'Flow Matching SE(2)', 'artist': 'Matplotlib'}\n",
    "    writer = FFMpegWriter(fps=60, metadata=metadata)\n",
    "\n",
    "    g_ts_test = g_0s_test.detach().clone()\n",
    "\n",
    "    fig, ax = plt.subplots(1, 1, figsize=(5, 5))\n",
    "\n",
    "    with writer.saving(fig, f\"flow_matching_SE2_{loss}.mp4\", dpi=300):\n",
    "        g_ts_test_plot = g_ts_test.to(\"cpu\")\n",
    "        ax.quiver(\n",
    "            g_ts_test_plot[:, 0], g_ts_test_plot[:, 1],\n",
    "            torch.cos(g_ts_test_plot[:, 2]), torch.sin(g_ts_test_plot[:, 2])\n",
    "        )\n",
    "        ax.set_title(f\"$G_{{{t:.2f}}}$\")\n",
    "        ax.set_xlim(-3, 3)\n",
    "        ax.set_ylim(-3, 3)\n",
    "        writer.grab_frame()\n",
    "        for frame in range(N_steps):\n",
    "            t = frame * Δt\n",
    "            with torch.no_grad():\n",
    "                g_ts_test = model_FM.step(g_ts_test, torch.Tensor([t]), Δt)\n",
    "            ax.clear()\n",
    "            g_ts_test_plot = g_ts_test.to(\"cpu\")\n",
    "            ax.quiver(\n",
    "                g_ts_test_plot[:, 0], g_ts_test_plot[:, 1],\n",
    "                torch.cos(g_ts_test_plot[:, 2]), torch.sin(g_ts_test_plot[:, 2])\n",
    "            )\n",
    "            ax.set_title(f\"$G_{{{t:.2f}}}$\")\n",
    "            ax.set_xlim(-3, 3)\n",
    "            ax.set_ylim(-3, 3)\n",
    "            writer.grab_frame()\n",
    "        writer.grab_frame()"
   ]
  },
  {
   "cell_type": "code",
   "execution_count": null,
   "metadata": {},
   "outputs": [],
   "source": [
    "t = 0\n",
    "N_steps = 240\n",
    "Δt = 1. / N_steps\n",
    "N_show = 5\n",
    "N_skip = int(N_steps / (N_show-1))\n",
    "\n",
    "g_ts_test = g_0s_test.detach().clone()\n",
    "g_ts_test_plot = g_ts_test.to(\"cpu\")\n",
    "\n",
    "Δc = 1 / (N_show - 1)\n",
    "colors = [(j * Δc, 0.1, 1 - j * Δc) for j in range(N_show)]\n",
    "cmap = mcolors.ListedColormap(colors)\n",
    "j = 0\n",
    "\n",
    "fig, ax = plt.subplots(1, 1, figsize=(6, 5))\n",
    "fig.colorbar(ScalarMappable(cmap=cmap), ax=ax, ticks=np.linspace(0, 1, N_show), label=\"t\");\n",
    "ax.set_xlim(-3, 3)\n",
    "ax.set_ylim(-3, 3)\n",
    "for i in range(N_steps+1):\n",
    "    t = i * Δt\n",
    "    with torch.no_grad():\n",
    "        g_ts_test = model_FM.step(g_ts_test, torch.Tensor([t]), Δt)\n",
    "    \n",
    "    if i % N_skip == 0:\n",
    "        print(i, j)\n",
    "        g_ts_test_plot = g_ts_test.to(\"cpu\")\n",
    "        im = ax.quiver(\n",
    "            g_ts_test_plot[:, 0], g_ts_test_plot[:, 1],\n",
    "            torch.cos(g_ts_test_plot[:, 2]), torch.sin(g_ts_test_plot[:, 2]),\n",
    "            color=colors[j]\n",
    "        )\n",
    "        j += 1"
   ]
  },
  {
   "cell_type": "code",
   "execution_count": null,
   "metadata": {},
   "outputs": [],
   "source": []
  }
 ],
 "metadata": {
  "kernelspec": {
   "display_name": "flow-matching",
   "language": "python",
   "name": "python3"
  },
  "language_info": {
   "codemirror_mode": {
    "name": "ipython",
    "version": 3
   },
   "file_extension": ".py",
   "mimetype": "text/x-python",
   "name": "python",
   "nbconvert_exporter": "python",
   "pygments_lexer": "ipython3",
   "version": "3.12.9"
  }
 },
 "nbformat": 4,
 "nbformat_minor": 2
}
